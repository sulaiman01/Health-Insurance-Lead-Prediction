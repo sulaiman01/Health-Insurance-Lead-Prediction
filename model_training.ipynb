{
 "metadata": {
  "language_info": {
   "codemirror_mode": {
    "name": "ipython",
    "version": 3
   },
   "file_extension": ".py",
   "mimetype": "text/x-python",
   "name": "python",
   "nbconvert_exporter": "python",
   "pygments_lexer": "ipython3",
   "version": "3.8.6-final"
  },
  "orig_nbformat": 2,
  "kernelspec": {
   "name": "python3",
   "display_name": "Python 3.8.6 64-bit",
   "metadata": {
    "interpreter": {
     "hash": "01cdcb0ce522b4f68cb2d06ea81fb1a2b154cfca27994b802c5828a18eed1070"
    }
   }
  }
 },
 "nbformat": 4,
 "nbformat_minor": 2,
 "cells": [
  {
   "source": [
    "Data Preperation"
   ],
   "cell_type": "markdown",
   "metadata": {}
  },
  {
   "cell_type": "code",
   "execution_count": 165,
   "metadata": {},
   "outputs": [],
   "source": [
    "# importing required libraries\n",
    "import pandas as pd\n",
    "import numpy as np\n",
    "from sklearn.preprocessing import StandardScaler"
   ]
  },
  {
   "cell_type": "code",
   "execution_count": 166,
   "metadata": {},
   "outputs": [
    {
     "output_type": "execute_result",
     "data": {
      "text/plain": [
       "      City_Code  Region_Code Accomodation_Type Reco_Insurance_Type  Upper_Age  \\\n",
       "ID                                                                              \n",
       "1            C3         3213            Rented          Individual         36   \n",
       "2            C5         1117             Owned               Joint         75   \n",
       "3            C5         3732             Owned          Individual         32   \n",
       "4           C24         4378             Owned               Joint         52   \n",
       "5            C8         2190            Rented          Individual         44   \n",
       "...         ...          ...               ...                 ...        ...   \n",
       "50878        C4          845            Rented          Individual         22   \n",
       "50879        C5         4188            Rented          Individual         27   \n",
       "50880        C1          442            Rented          Individual         63   \n",
       "50881        C1            4             Owned               Joint         71   \n",
       "50882        C3         3866            Rented          Individual         24   \n",
       "\n",
       "       Lower_Age Is_Spouse Health Indicator Holding_Policy_Duration  \\\n",
       "ID                                                                    \n",
       "1             36        No               X1                     14+   \n",
       "2             22        No               X2                     NaN   \n",
       "3             32        No              NaN                       1   \n",
       "4             48        No               X1                     14+   \n",
       "5             44        No               X2                       3   \n",
       "...          ...       ...              ...                     ...   \n",
       "50878         22        No               X3                     NaN   \n",
       "50879         27        No               X3                       7   \n",
       "50880         63        No               X2                     14+   \n",
       "50881         49        No               X2                       2   \n",
       "50882         24        No               X3                       2   \n",
       "\n",
       "       Holding_Policy_Type  Reco_Policy_Cat  Reco_Policy_Premium  Response  \n",
       "ID                                                                          \n",
       "1                      3.0               22              11628.0         0  \n",
       "2                      NaN               22              30510.0         0  \n",
       "3                      1.0               19               7450.0         1  \n",
       "4                      3.0               19              17780.0         0  \n",
       "5                      1.0               16              10404.0         0  \n",
       "...                    ...              ...                  ...       ...  \n",
       "50878                  NaN               18               7704.0         0  \n",
       "50879                  3.0                4               5408.0         0  \n",
       "50880                  1.0               12              11374.0         0  \n",
       "50881                  2.0               16              28179.2         1  \n",
       "50882                  3.0               18              11424.0         0  \n",
       "\n",
       "[50882 rows x 13 columns]"
      ],
      "text/html": "<div>\n<style scoped>\n    .dataframe tbody tr th:only-of-type {\n        vertical-align: middle;\n    }\n\n    .dataframe tbody tr th {\n        vertical-align: top;\n    }\n\n    .dataframe thead th {\n        text-align: right;\n    }\n</style>\n<table border=\"1\" class=\"dataframe\">\n  <thead>\n    <tr style=\"text-align: right;\">\n      <th></th>\n      <th>City_Code</th>\n      <th>Region_Code</th>\n      <th>Accomodation_Type</th>\n      <th>Reco_Insurance_Type</th>\n      <th>Upper_Age</th>\n      <th>Lower_Age</th>\n      <th>Is_Spouse</th>\n      <th>Health Indicator</th>\n      <th>Holding_Policy_Duration</th>\n      <th>Holding_Policy_Type</th>\n      <th>Reco_Policy_Cat</th>\n      <th>Reco_Policy_Premium</th>\n      <th>Response</th>\n    </tr>\n    <tr>\n      <th>ID</th>\n      <th></th>\n      <th></th>\n      <th></th>\n      <th></th>\n      <th></th>\n      <th></th>\n      <th></th>\n      <th></th>\n      <th></th>\n      <th></th>\n      <th></th>\n      <th></th>\n      <th></th>\n    </tr>\n  </thead>\n  <tbody>\n    <tr>\n      <th>1</th>\n      <td>C3</td>\n      <td>3213</td>\n      <td>Rented</td>\n      <td>Individual</td>\n      <td>36</td>\n      <td>36</td>\n      <td>No</td>\n      <td>X1</td>\n      <td>14+</td>\n      <td>3.0</td>\n      <td>22</td>\n      <td>11628.0</td>\n      <td>0</td>\n    </tr>\n    <tr>\n      <th>2</th>\n      <td>C5</td>\n      <td>1117</td>\n      <td>Owned</td>\n      <td>Joint</td>\n      <td>75</td>\n      <td>22</td>\n      <td>No</td>\n      <td>X2</td>\n      <td>NaN</td>\n      <td>NaN</td>\n      <td>22</td>\n      <td>30510.0</td>\n      <td>0</td>\n    </tr>\n    <tr>\n      <th>3</th>\n      <td>C5</td>\n      <td>3732</td>\n      <td>Owned</td>\n      <td>Individual</td>\n      <td>32</td>\n      <td>32</td>\n      <td>No</td>\n      <td>NaN</td>\n      <td>1</td>\n      <td>1.0</td>\n      <td>19</td>\n      <td>7450.0</td>\n      <td>1</td>\n    </tr>\n    <tr>\n      <th>4</th>\n      <td>C24</td>\n      <td>4378</td>\n      <td>Owned</td>\n      <td>Joint</td>\n      <td>52</td>\n      <td>48</td>\n      <td>No</td>\n      <td>X1</td>\n      <td>14+</td>\n      <td>3.0</td>\n      <td>19</td>\n      <td>17780.0</td>\n      <td>0</td>\n    </tr>\n    <tr>\n      <th>5</th>\n      <td>C8</td>\n      <td>2190</td>\n      <td>Rented</td>\n      <td>Individual</td>\n      <td>44</td>\n      <td>44</td>\n      <td>No</td>\n      <td>X2</td>\n      <td>3</td>\n      <td>1.0</td>\n      <td>16</td>\n      <td>10404.0</td>\n      <td>0</td>\n    </tr>\n    <tr>\n      <th>...</th>\n      <td>...</td>\n      <td>...</td>\n      <td>...</td>\n      <td>...</td>\n      <td>...</td>\n      <td>...</td>\n      <td>...</td>\n      <td>...</td>\n      <td>...</td>\n      <td>...</td>\n      <td>...</td>\n      <td>...</td>\n      <td>...</td>\n    </tr>\n    <tr>\n      <th>50878</th>\n      <td>C4</td>\n      <td>845</td>\n      <td>Rented</td>\n      <td>Individual</td>\n      <td>22</td>\n      <td>22</td>\n      <td>No</td>\n      <td>X3</td>\n      <td>NaN</td>\n      <td>NaN</td>\n      <td>18</td>\n      <td>7704.0</td>\n      <td>0</td>\n    </tr>\n    <tr>\n      <th>50879</th>\n      <td>C5</td>\n      <td>4188</td>\n      <td>Rented</td>\n      <td>Individual</td>\n      <td>27</td>\n      <td>27</td>\n      <td>No</td>\n      <td>X3</td>\n      <td>7</td>\n      <td>3.0</td>\n      <td>4</td>\n      <td>5408.0</td>\n      <td>0</td>\n    </tr>\n    <tr>\n      <th>50880</th>\n      <td>C1</td>\n      <td>442</td>\n      <td>Rented</td>\n      <td>Individual</td>\n      <td>63</td>\n      <td>63</td>\n      <td>No</td>\n      <td>X2</td>\n      <td>14+</td>\n      <td>1.0</td>\n      <td>12</td>\n      <td>11374.0</td>\n      <td>0</td>\n    </tr>\n    <tr>\n      <th>50881</th>\n      <td>C1</td>\n      <td>4</td>\n      <td>Owned</td>\n      <td>Joint</td>\n      <td>71</td>\n      <td>49</td>\n      <td>No</td>\n      <td>X2</td>\n      <td>2</td>\n      <td>2.0</td>\n      <td>16</td>\n      <td>28179.2</td>\n      <td>1</td>\n    </tr>\n    <tr>\n      <th>50882</th>\n      <td>C3</td>\n      <td>3866</td>\n      <td>Rented</td>\n      <td>Individual</td>\n      <td>24</td>\n      <td>24</td>\n      <td>No</td>\n      <td>X3</td>\n      <td>2</td>\n      <td>3.0</td>\n      <td>18</td>\n      <td>11424.0</td>\n      <td>0</td>\n    </tr>\n  </tbody>\n</table>\n<p>50882 rows × 13 columns</p>\n</div>"
     },
     "metadata": {},
     "execution_count": 166
    }
   ],
   "source": [
    "data=pd.read_csv('train_Df64byy.csv',index_col=0)\n",
    "data"
   ]
  },
  {
   "source": [
    "the categorical variables must be first encoded. we will be using binary encoding for features with only 2 categories and frequency encoding for features with more that 2 categories and integer numerical for ordinal variables"
   ],
   "cell_type": "markdown",
   "metadata": {}
  },
  {
   "source": [
    "Binary encoding for features:\n",
    "1.Accomodation_Type\n",
    "2.Reco_Insurance_Type\n",
    "3.Is_Spouse"
   ],
   "cell_type": "markdown",
   "metadata": {}
  },
  {
   "cell_type": "code",
   "execution_count": 167,
   "metadata": {},
   "outputs": [],
   "source": [
    "data['accom_encode']=data['Accomodation_Type'].map({'Rented':0,'Owned':1})\n",
    "data['it_encode']=data['Reco_Insurance_Type'].map({'Individual':0,'Joint':1})\n",
    "data['is_spouse_encode']=data['Is_Spouse'].map({'No':0,'Yes':1})"
   ]
  },
  {
   "source": [
    "ordinal feature: Holding_Policy_Duration"
   ],
   "cell_type": "markdown",
   "metadata": {}
  },
  {
   "cell_type": "code",
   "execution_count": 168,
   "metadata": {},
   "outputs": [],
   "source": [
    "# the value in Holding_Policy_Duration in str formate\n",
    "# converting them into int and replace na,14+ with 0,15\n",
    "data['Holding_Policy_Duration'].fillna(0,inplace=True)\n",
    "data['HPD_encode']=data['Holding_Policy_Duration'].replace(to_replace=['1','2','3','4','5','6','7','8','9','10','11','12','13','14','14+'],value=[1,2,3,4,5,6,7,8,9,10,11,12,13,14,15])"
   ]
  },
  {
   "source": [
    "frequency encoding for 1.city_code 2.Health Indicator 3.Holding_Policy_Type 4.Reco_Policy_Cat"
   ],
   "cell_type": "markdown",
   "metadata": {}
  },
  {
   "cell_type": "code",
   "execution_count": 169,
   "metadata": {},
   "outputs": [],
   "source": [
    "data['city_encode']=data['City_Code'].map(data.groupby('City_Code').size()/len(data))\n",
    "data['Health Indicator'].fillna('X5',inplace=True)\n",
    "data['HI_encode']=data['Health Indicator'].map(data.groupby('Health Indicator').size()/len(data))\n",
    "data['Holding_Policy_Type'].fillna(4.,inplace=True)\n",
    "data['HPT_encode']=data['Holding_Policy_Type'].map(data.groupby('Holding_Policy_Type').size()/len(data))\n",
    "data['RPC_encode']=data['Reco_Policy_Cat'].map(data.groupby('Reco_Policy_Cat').size()/len(data))"
   ]
  },
  {
   "cell_type": "code",
   "execution_count": 170,
   "metadata": {},
   "outputs": [
    {
     "output_type": "execute_result",
     "data": {
      "text/plain": [
       "      City_Code  Region_Code Accomodation_Type Reco_Insurance_Type  Upper_Age  \\\n",
       "ID                                                                              \n",
       "1            C3         3213            Rented          Individual         36   \n",
       "2            C5         1117             Owned               Joint         75   \n",
       "3            C5         3732             Owned          Individual         32   \n",
       "4           C24         4378             Owned               Joint         52   \n",
       "5            C8         2190            Rented          Individual         44   \n",
       "...         ...          ...               ...                 ...        ...   \n",
       "50878        C4          845            Rented          Individual         22   \n",
       "50879        C5         4188            Rented          Individual         27   \n",
       "50880        C1          442            Rented          Individual         63   \n",
       "50881        C1            4             Owned               Joint         71   \n",
       "50882        C3         3866            Rented          Individual         24   \n",
       "\n",
       "       Lower_Age Is_Spouse Health Indicator Holding_Policy_Duration  \\\n",
       "ID                                                                    \n",
       "1             36        No               X1                     14+   \n",
       "2             22        No               X2                       0   \n",
       "3             32        No               X5                       1   \n",
       "4             48        No               X1                     14+   \n",
       "5             44        No               X2                       3   \n",
       "...          ...       ...              ...                     ...   \n",
       "50878         22        No               X3                       0   \n",
       "50879         27        No               X3                       7   \n",
       "50880         63        No               X2                     14+   \n",
       "50881         49        No               X2                       2   \n",
       "50882         24        No               X3                       2   \n",
       "\n",
       "       Holding_Policy_Type  ...  Reco_Policy_Premium  Response  accom_encode  \\\n",
       "ID                          ...                                                \n",
       "1                      3.0  ...              11628.0         0             0   \n",
       "2                      4.0  ...              30510.0         0             1   \n",
       "3                      1.0  ...               7450.0         1             1   \n",
       "4                      3.0  ...              17780.0         0             1   \n",
       "5                      1.0  ...              10404.0         0             0   \n",
       "...                    ...  ...                  ...       ...           ...   \n",
       "50878                  4.0  ...               7704.0         0             0   \n",
       "50879                  3.0  ...               5408.0         0             0   \n",
       "50880                  1.0  ...              11374.0         0             0   \n",
       "50881                  2.0  ...              28179.2         1             1   \n",
       "50882                  3.0  ...              11424.0         0             0   \n",
       "\n",
       "       it_encode  is_spouse_encode  HPD_encode  city_encode  HI_encode  \\\n",
       "ID                                                                       \n",
       "1              0                 0          15     0.096085   0.255690   \n",
       "2              1                 0           0     0.026807   0.203058   \n",
       "3              0                 0           1     0.026807   0.263708   \n",
       "4              1                 0          15     0.010868   0.255690   \n",
       "5              0                 0           3     0.035494   0.203058   \n",
       "...          ...               ...         ...          ...        ...   \n",
       "50878          0                 0           0     0.072147   0.132896   \n",
       "50879          0                 0           7     0.026807   0.132896   \n",
       "50880          0                 0          15     0.176349   0.203058   \n",
       "50881          1                 0           2     0.176349   0.203058   \n",
       "50882          0                 0           2     0.096085   0.132896   \n",
       "\n",
       "       HPT_encode  RPC_encode  \n",
       "ID                             \n",
       "1        0.260976    0.129751  \n",
       "2        0.480032    0.129751  \n",
       "3        0.160627    0.072874  \n",
       "4        0.260976    0.072874  \n",
       "5        0.160627    0.080264  \n",
       "...           ...         ...  \n",
       "50878    0.480032    0.109135  \n",
       "50879    0.260976    0.019948  \n",
       "50880    0.160627    0.042608  \n",
       "50881    0.098365    0.080264  \n",
       "50882    0.260976    0.109135  \n",
       "\n",
       "[50882 rows x 21 columns]"
      ],
      "text/html": "<div>\n<style scoped>\n    .dataframe tbody tr th:only-of-type {\n        vertical-align: middle;\n    }\n\n    .dataframe tbody tr th {\n        vertical-align: top;\n    }\n\n    .dataframe thead th {\n        text-align: right;\n    }\n</style>\n<table border=\"1\" class=\"dataframe\">\n  <thead>\n    <tr style=\"text-align: right;\">\n      <th></th>\n      <th>City_Code</th>\n      <th>Region_Code</th>\n      <th>Accomodation_Type</th>\n      <th>Reco_Insurance_Type</th>\n      <th>Upper_Age</th>\n      <th>Lower_Age</th>\n      <th>Is_Spouse</th>\n      <th>Health Indicator</th>\n      <th>Holding_Policy_Duration</th>\n      <th>Holding_Policy_Type</th>\n      <th>...</th>\n      <th>Reco_Policy_Premium</th>\n      <th>Response</th>\n      <th>accom_encode</th>\n      <th>it_encode</th>\n      <th>is_spouse_encode</th>\n      <th>HPD_encode</th>\n      <th>city_encode</th>\n      <th>HI_encode</th>\n      <th>HPT_encode</th>\n      <th>RPC_encode</th>\n    </tr>\n    <tr>\n      <th>ID</th>\n      <th></th>\n      <th></th>\n      <th></th>\n      <th></th>\n      <th></th>\n      <th></th>\n      <th></th>\n      <th></th>\n      <th></th>\n      <th></th>\n      <th></th>\n      <th></th>\n      <th></th>\n      <th></th>\n      <th></th>\n      <th></th>\n      <th></th>\n      <th></th>\n      <th></th>\n      <th></th>\n      <th></th>\n    </tr>\n  </thead>\n  <tbody>\n    <tr>\n      <th>1</th>\n      <td>C3</td>\n      <td>3213</td>\n      <td>Rented</td>\n      <td>Individual</td>\n      <td>36</td>\n      <td>36</td>\n      <td>No</td>\n      <td>X1</td>\n      <td>14+</td>\n      <td>3.0</td>\n      <td>...</td>\n      <td>11628.0</td>\n      <td>0</td>\n      <td>0</td>\n      <td>0</td>\n      <td>0</td>\n      <td>15</td>\n      <td>0.096085</td>\n      <td>0.255690</td>\n      <td>0.260976</td>\n      <td>0.129751</td>\n    </tr>\n    <tr>\n      <th>2</th>\n      <td>C5</td>\n      <td>1117</td>\n      <td>Owned</td>\n      <td>Joint</td>\n      <td>75</td>\n      <td>22</td>\n      <td>No</td>\n      <td>X2</td>\n      <td>0</td>\n      <td>4.0</td>\n      <td>...</td>\n      <td>30510.0</td>\n      <td>0</td>\n      <td>1</td>\n      <td>1</td>\n      <td>0</td>\n      <td>0</td>\n      <td>0.026807</td>\n      <td>0.203058</td>\n      <td>0.480032</td>\n      <td>0.129751</td>\n    </tr>\n    <tr>\n      <th>3</th>\n      <td>C5</td>\n      <td>3732</td>\n      <td>Owned</td>\n      <td>Individual</td>\n      <td>32</td>\n      <td>32</td>\n      <td>No</td>\n      <td>X5</td>\n      <td>1</td>\n      <td>1.0</td>\n      <td>...</td>\n      <td>7450.0</td>\n      <td>1</td>\n      <td>1</td>\n      <td>0</td>\n      <td>0</td>\n      <td>1</td>\n      <td>0.026807</td>\n      <td>0.263708</td>\n      <td>0.160627</td>\n      <td>0.072874</td>\n    </tr>\n    <tr>\n      <th>4</th>\n      <td>C24</td>\n      <td>4378</td>\n      <td>Owned</td>\n      <td>Joint</td>\n      <td>52</td>\n      <td>48</td>\n      <td>No</td>\n      <td>X1</td>\n      <td>14+</td>\n      <td>3.0</td>\n      <td>...</td>\n      <td>17780.0</td>\n      <td>0</td>\n      <td>1</td>\n      <td>1</td>\n      <td>0</td>\n      <td>15</td>\n      <td>0.010868</td>\n      <td>0.255690</td>\n      <td>0.260976</td>\n      <td>0.072874</td>\n    </tr>\n    <tr>\n      <th>5</th>\n      <td>C8</td>\n      <td>2190</td>\n      <td>Rented</td>\n      <td>Individual</td>\n      <td>44</td>\n      <td>44</td>\n      <td>No</td>\n      <td>X2</td>\n      <td>3</td>\n      <td>1.0</td>\n      <td>...</td>\n      <td>10404.0</td>\n      <td>0</td>\n      <td>0</td>\n      <td>0</td>\n      <td>0</td>\n      <td>3</td>\n      <td>0.035494</td>\n      <td>0.203058</td>\n      <td>0.160627</td>\n      <td>0.080264</td>\n    </tr>\n    <tr>\n      <th>...</th>\n      <td>...</td>\n      <td>...</td>\n      <td>...</td>\n      <td>...</td>\n      <td>...</td>\n      <td>...</td>\n      <td>...</td>\n      <td>...</td>\n      <td>...</td>\n      <td>...</td>\n      <td>...</td>\n      <td>...</td>\n      <td>...</td>\n      <td>...</td>\n      <td>...</td>\n      <td>...</td>\n      <td>...</td>\n      <td>...</td>\n      <td>...</td>\n      <td>...</td>\n      <td>...</td>\n    </tr>\n    <tr>\n      <th>50878</th>\n      <td>C4</td>\n      <td>845</td>\n      <td>Rented</td>\n      <td>Individual</td>\n      <td>22</td>\n      <td>22</td>\n      <td>No</td>\n      <td>X3</td>\n      <td>0</td>\n      <td>4.0</td>\n      <td>...</td>\n      <td>7704.0</td>\n      <td>0</td>\n      <td>0</td>\n      <td>0</td>\n      <td>0</td>\n      <td>0</td>\n      <td>0.072147</td>\n      <td>0.132896</td>\n      <td>0.480032</td>\n      <td>0.109135</td>\n    </tr>\n    <tr>\n      <th>50879</th>\n      <td>C5</td>\n      <td>4188</td>\n      <td>Rented</td>\n      <td>Individual</td>\n      <td>27</td>\n      <td>27</td>\n      <td>No</td>\n      <td>X3</td>\n      <td>7</td>\n      <td>3.0</td>\n      <td>...</td>\n      <td>5408.0</td>\n      <td>0</td>\n      <td>0</td>\n      <td>0</td>\n      <td>0</td>\n      <td>7</td>\n      <td>0.026807</td>\n      <td>0.132896</td>\n      <td>0.260976</td>\n      <td>0.019948</td>\n    </tr>\n    <tr>\n      <th>50880</th>\n      <td>C1</td>\n      <td>442</td>\n      <td>Rented</td>\n      <td>Individual</td>\n      <td>63</td>\n      <td>63</td>\n      <td>No</td>\n      <td>X2</td>\n      <td>14+</td>\n      <td>1.0</td>\n      <td>...</td>\n      <td>11374.0</td>\n      <td>0</td>\n      <td>0</td>\n      <td>0</td>\n      <td>0</td>\n      <td>15</td>\n      <td>0.176349</td>\n      <td>0.203058</td>\n      <td>0.160627</td>\n      <td>0.042608</td>\n    </tr>\n    <tr>\n      <th>50881</th>\n      <td>C1</td>\n      <td>4</td>\n      <td>Owned</td>\n      <td>Joint</td>\n      <td>71</td>\n      <td>49</td>\n      <td>No</td>\n      <td>X2</td>\n      <td>2</td>\n      <td>2.0</td>\n      <td>...</td>\n      <td>28179.2</td>\n      <td>1</td>\n      <td>1</td>\n      <td>1</td>\n      <td>0</td>\n      <td>2</td>\n      <td>0.176349</td>\n      <td>0.203058</td>\n      <td>0.098365</td>\n      <td>0.080264</td>\n    </tr>\n    <tr>\n      <th>50882</th>\n      <td>C3</td>\n      <td>3866</td>\n      <td>Rented</td>\n      <td>Individual</td>\n      <td>24</td>\n      <td>24</td>\n      <td>No</td>\n      <td>X3</td>\n      <td>2</td>\n      <td>3.0</td>\n      <td>...</td>\n      <td>11424.0</td>\n      <td>0</td>\n      <td>0</td>\n      <td>0</td>\n      <td>0</td>\n      <td>2</td>\n      <td>0.096085</td>\n      <td>0.132896</td>\n      <td>0.260976</td>\n      <td>0.109135</td>\n    </tr>\n  </tbody>\n</table>\n<p>50882 rows × 21 columns</p>\n</div>"
     },
     "metadata": {},
     "execution_count": 170
    }
   ],
   "source": [
    "data"
   ]
  },
  {
   "cell_type": "code",
   "execution_count": 171,
   "metadata": {},
   "outputs": [],
   "source": [
    "t_data=data[['Region_Code','Upper_Age','Lower_Age','Reco_Policy_Premium','accom_encode','it_encode','is_spouse_encode','HPD_encode','city_encode','HI_encode','HPT_encode','RPC_encode']]\n",
    "t_out=data['Response']"
   ]
  },
  {
   "cell_type": "code",
   "execution_count": 172,
   "metadata": {},
   "outputs": [
    {
     "output_type": "execute_result",
     "data": {
      "text/plain": [
       "(50882, 12)"
      ]
     },
     "metadata": {},
     "execution_count": 172
    }
   ],
   "source": [
    "stand_model=StandardScaler().fit(t_data)\n",
    "stand_data=stand_model.transform(t_data)\n",
    "stand_data.shape"
   ]
  },
  {
   "cell_type": "code",
   "execution_count": 173,
   "metadata": {},
   "outputs": [],
   "source": [
    "train_y=np.array(t_out)\n",
    "train_x=stand_data"
   ]
  },
  {
   "source": [
    "Preparing test_data"
   ],
   "cell_type": "markdown",
   "metadata": {}
  },
  {
   "cell_type": "code",
   "execution_count": 174,
   "metadata": {},
   "outputs": [
    {
     "output_type": "stream",
     "name": "stdout",
     "text": [
      "(21805, 12)\n"
     ]
    }
   ],
   "source": [
    "test_data=pd.read_csv('test_YCcRUnU.csv',index_col=0)\n",
    "test_data['accom_encode']=test_data['Accomodation_Type'].map({'Rented':0,'Owned':1})\n",
    "test_data['it_encode']=test_data['Reco_Insurance_Type'].map({'Individual':0,'Joint':1})\n",
    "test_data['is_spouse_encode']=test_data['Is_Spouse'].map({'No':0,'Yes':1})\n",
    "test_data['Holding_Policy_Duration'].fillna(0,inplace=True)\n",
    "test_data['HPD_encode']=test_data['Holding_Policy_Duration'].replace(to_replace=['1','2','3','4','5','6','7','8','9','10','11','12','13','14','14+'],value=[1,2,3,4,5,6,7,8,9,10,11,12,13,14,15])\n",
    "test_data['city_encode']=test_data['City_Code'].map(data.groupby('City_Code').size()/len(data))\n",
    "test_data['Health Indicator'].fillna('X5',inplace=True)\n",
    "test_data['HI_encode']=test_data['Health Indicator'].map(data.groupby('Health Indicator').size()/len(data))\n",
    "test_data['Holding_Policy_Type'].fillna(4.,inplace=True)\n",
    "test_data['HPT_encode']=test_data['Holding_Policy_Type'].map(data.groupby('Holding_Policy_Type').size()/len(data))\n",
    "test_data['RPC_encode']=test_data['Reco_Policy_Cat'].map(data.groupby('Reco_Policy_Cat').size()/len(data))\n",
    "t_test_data=test_data[['Region_Code','Upper_Age','Lower_Age','Reco_Policy_Premium','accom_encode','it_encode','is_spouse_encode','HPD_encode','city_encode','HI_encode','HPT_encode','RPC_encode']]\n",
    "t_stand_data=stand_model.transform(t_test_data)\n",
    "print(t_stand_data.shape)\n",
    "test_x=t_stand_data"
   ]
  },
  {
   "source": [
    "Training data on different Machine Learning algorithms"
   ],
   "cell_type": "markdown",
   "metadata": {}
  },
  {
   "source": [
    "Neural Networks"
   ],
   "cell_type": "markdown",
   "metadata": {}
  },
  {
   "cell_type": "code",
   "execution_count": 175,
   "metadata": {},
   "outputs": [],
   "source": [
    "import tensorflow as tf"
   ]
  },
  {
   "cell_type": "code",
   "execution_count": 190,
   "metadata": {},
   "outputs": [],
   "source": [
    "nn_model=tf.keras.Sequential([tf.keras.layers.Dense(20,activation='relu',input_shape=(12,)),tf.keras.layers.Dense(20,activation='relu'),tf.keras.layers.Dense(20,activation='relu'),tf.keras.layers.Dense(20,activation='relu'),tf.keras.layers.Dense(20,activation='relu'),tf.keras.layers.Dense(20,activation='relu'),tf.keras.layers.Dense(2,activation='softmax')])"
   ]
  },
  {
   "cell_type": "code",
   "execution_count": 195,
   "metadata": {},
   "outputs": [],
   "source": [
    "nn_model.compile(optimizer='adam',\n",
    "              loss=tf.keras.losses.SparseCategoricalCrossentropy(from_logits=True),\n",
    "              metrics=['accuracy'])"
   ]
  },
  {
   "cell_type": "code",
   "execution_count": 196,
   "metadata": {},
   "outputs": [
    {
     "output_type": "stream",
     "name": "stdout",
     "text": [
      "Epoch 1/10\n",
      "1511/1511 - 4s - loss: 0.5527 - accuracy: 0.7601 - val_loss: 0.5522 - val_accuracy: 0.7583\n",
      "Epoch 2/10\n",
      "1511/1511 - 2s - loss: 0.5499 - accuracy: 0.7601 - val_loss: 0.5533 - val_accuracy: 0.7583\n",
      "Epoch 3/10\n",
      "1511/1511 - 2s - loss: 0.5487 - accuracy: 0.7601 - val_loss: 0.5530 - val_accuracy: 0.7583\n",
      "Epoch 4/10\n",
      "1511/1511 - 2s - loss: 0.5481 - accuracy: 0.7601 - val_loss: 0.5505 - val_accuracy: 0.7583\n",
      "Epoch 5/10\n",
      "1511/1511 - 1s - loss: 0.5465 - accuracy: 0.7601 - val_loss: 0.5507 - val_accuracy: 0.7583\n",
      "Epoch 6/10\n",
      "1511/1511 - 2s - loss: 0.5454 - accuracy: 0.7601 - val_loss: 0.5528 - val_accuracy: 0.7583\n",
      "Epoch 7/10\n",
      "1511/1511 - 2s - loss: 0.5447 - accuracy: 0.7601 - val_loss: 0.5523 - val_accuracy: 0.7583\n",
      "Epoch 8/10\n",
      "1511/1511 - 2s - loss: 0.5440 - accuracy: 0.7601 - val_loss: 0.5521 - val_accuracy: 0.7583\n",
      "Epoch 9/10\n",
      "1511/1511 - 2s - loss: 0.5435 - accuracy: 0.7601 - val_loss: 0.5543 - val_accuracy: 0.7583\n",
      "Epoch 10/10\n",
      "1511/1511 - 1s - loss: 0.5429 - accuracy: 0.7601 - val_loss: 0.5517 - val_accuracy: 0.7583\n"
     ]
    },
    {
     "output_type": "execute_result",
     "data": {
      "text/plain": [
       "<tensorflow.python.keras.callbacks.History at 0x220684d6d30>"
      ]
     },
     "metadata": {},
     "execution_count": 196
    }
   ],
   "source": [
    "nn_model.fit(train_x,train_y,validation_split=0.05,epochs=10,verbose=2)"
   ]
  },
  {
   "cell_type": "code",
   "execution_count": 189,
   "metadata": {},
   "outputs": [
    {
     "output_type": "execute_result",
     "data": {
      "text/plain": [
       "array([[0.71782285, 0.2821771 ],\n",
       "       [0.61638075, 0.38361922],\n",
       "       [0.7693872 , 0.2306128 ],\n",
       "       ...,\n",
       "       [0.75689304, 0.24310693],\n",
       "       [0.7904687 , 0.20953128],\n",
       "       [0.8620497 , 0.13795035]], dtype=float32)"
      ]
     },
     "metadata": {},
     "execution_count": 189
    }
   ],
   "source": [
    "loss,accuracy=nn_model.evaluate(train_x)\n",
    "accuracy"
   ]
  },
  {
   "source": [
    "the accuraccy of the model is very  low, the reason might be imputing of missing values as new category. we will using neural networks to impute value in to the missing data. the features which contain missing values are 1.Health Indicator  2.Holding_Policy_Duration 3.Holding_Policy_Type"
   ],
   "cell_type": "markdown",
   "metadata": {}
  },
  {
   "cell_type": "code",
   "execution_count": 180,
   "metadata": {},
   "outputs": [
    {
     "output_type": "execute_result",
     "data": {
      "text/plain": [
       "      City_Code  Region_Code Accomodation_Type Reco_Insurance_Type  Upper_Age  \\\n",
       "ID                                                                              \n",
       "1            C3         3213            Rented          Individual         36   \n",
       "2            C5         1117             Owned               Joint         75   \n",
       "3            C5         3732             Owned          Individual         32   \n",
       "4           C24         4378             Owned               Joint         52   \n",
       "5            C8         2190            Rented          Individual         44   \n",
       "...         ...          ...               ...                 ...        ...   \n",
       "50878        C4          845            Rented          Individual         22   \n",
       "50879        C5         4188            Rented          Individual         27   \n",
       "50880        C1          442            Rented          Individual         63   \n",
       "50881        C1            4             Owned               Joint         71   \n",
       "50882        C3         3866            Rented          Individual         24   \n",
       "\n",
       "       Lower_Age Is_Spouse Health Indicator Holding_Policy_Duration  \\\n",
       "ID                                                                    \n",
       "1             36        No               X1                     14+   \n",
       "2             22        No               X2                     NaN   \n",
       "3             32        No              NaN                       1   \n",
       "4             48        No               X1                     14+   \n",
       "5             44        No               X2                       3   \n",
       "...          ...       ...              ...                     ...   \n",
       "50878         22        No               X3                     NaN   \n",
       "50879         27        No               X3                       7   \n",
       "50880         63        No               X2                     14+   \n",
       "50881         49        No               X2                       2   \n",
       "50882         24        No               X3                       2   \n",
       "\n",
       "       Holding_Policy_Type  Reco_Policy_Cat  Reco_Policy_Premium  Response  \n",
       "ID                                                                          \n",
       "1                      3.0               22              11628.0         0  \n",
       "2                      NaN               22              30510.0         0  \n",
       "3                      1.0               19               7450.0         1  \n",
       "4                      3.0               19              17780.0         0  \n",
       "5                      1.0               16              10404.0         0  \n",
       "...                    ...              ...                  ...       ...  \n",
       "50878                  NaN               18               7704.0         0  \n",
       "50879                  3.0                4               5408.0         0  \n",
       "50880                  1.0               12              11374.0         0  \n",
       "50881                  2.0               16              28179.2         1  \n",
       "50882                  3.0               18              11424.0         0  \n",
       "\n",
       "[50882 rows x 13 columns]"
      ],
      "text/html": "<div>\n<style scoped>\n    .dataframe tbody tr th:only-of-type {\n        vertical-align: middle;\n    }\n\n    .dataframe tbody tr th {\n        vertical-align: top;\n    }\n\n    .dataframe thead th {\n        text-align: right;\n    }\n</style>\n<table border=\"1\" class=\"dataframe\">\n  <thead>\n    <tr style=\"text-align: right;\">\n      <th></th>\n      <th>City_Code</th>\n      <th>Region_Code</th>\n      <th>Accomodation_Type</th>\n      <th>Reco_Insurance_Type</th>\n      <th>Upper_Age</th>\n      <th>Lower_Age</th>\n      <th>Is_Spouse</th>\n      <th>Health Indicator</th>\n      <th>Holding_Policy_Duration</th>\n      <th>Holding_Policy_Type</th>\n      <th>Reco_Policy_Cat</th>\n      <th>Reco_Policy_Premium</th>\n      <th>Response</th>\n    </tr>\n    <tr>\n      <th>ID</th>\n      <th></th>\n      <th></th>\n      <th></th>\n      <th></th>\n      <th></th>\n      <th></th>\n      <th></th>\n      <th></th>\n      <th></th>\n      <th></th>\n      <th></th>\n      <th></th>\n      <th></th>\n    </tr>\n  </thead>\n  <tbody>\n    <tr>\n      <th>1</th>\n      <td>C3</td>\n      <td>3213</td>\n      <td>Rented</td>\n      <td>Individual</td>\n      <td>36</td>\n      <td>36</td>\n      <td>No</td>\n      <td>X1</td>\n      <td>14+</td>\n      <td>3.0</td>\n      <td>22</td>\n      <td>11628.0</td>\n      <td>0</td>\n    </tr>\n    <tr>\n      <th>2</th>\n      <td>C5</td>\n      <td>1117</td>\n      <td>Owned</td>\n      <td>Joint</td>\n      <td>75</td>\n      <td>22</td>\n      <td>No</td>\n      <td>X2</td>\n      <td>NaN</td>\n      <td>NaN</td>\n      <td>22</td>\n      <td>30510.0</td>\n      <td>0</td>\n    </tr>\n    <tr>\n      <th>3</th>\n      <td>C5</td>\n      <td>3732</td>\n      <td>Owned</td>\n      <td>Individual</td>\n      <td>32</td>\n      <td>32</td>\n      <td>No</td>\n      <td>NaN</td>\n      <td>1</td>\n      <td>1.0</td>\n      <td>19</td>\n      <td>7450.0</td>\n      <td>1</td>\n    </tr>\n    <tr>\n      <th>4</th>\n      <td>C24</td>\n      <td>4378</td>\n      <td>Owned</td>\n      <td>Joint</td>\n      <td>52</td>\n      <td>48</td>\n      <td>No</td>\n      <td>X1</td>\n      <td>14+</td>\n      <td>3.0</td>\n      <td>19</td>\n      <td>17780.0</td>\n      <td>0</td>\n    </tr>\n    <tr>\n      <th>5</th>\n      <td>C8</td>\n      <td>2190</td>\n      <td>Rented</td>\n      <td>Individual</td>\n      <td>44</td>\n      <td>44</td>\n      <td>No</td>\n      <td>X2</td>\n      <td>3</td>\n      <td>1.0</td>\n      <td>16</td>\n      <td>10404.0</td>\n      <td>0</td>\n    </tr>\n    <tr>\n      <th>...</th>\n      <td>...</td>\n      <td>...</td>\n      <td>...</td>\n      <td>...</td>\n      <td>...</td>\n      <td>...</td>\n      <td>...</td>\n      <td>...</td>\n      <td>...</td>\n      <td>...</td>\n      <td>...</td>\n      <td>...</td>\n      <td>...</td>\n    </tr>\n    <tr>\n      <th>50878</th>\n      <td>C4</td>\n      <td>845</td>\n      <td>Rented</td>\n      <td>Individual</td>\n      <td>22</td>\n      <td>22</td>\n      <td>No</td>\n      <td>X3</td>\n      <td>NaN</td>\n      <td>NaN</td>\n      <td>18</td>\n      <td>7704.0</td>\n      <td>0</td>\n    </tr>\n    <tr>\n      <th>50879</th>\n      <td>C5</td>\n      <td>4188</td>\n      <td>Rented</td>\n      <td>Individual</td>\n      <td>27</td>\n      <td>27</td>\n      <td>No</td>\n      <td>X3</td>\n      <td>7</td>\n      <td>3.0</td>\n      <td>4</td>\n      <td>5408.0</td>\n      <td>0</td>\n    </tr>\n    <tr>\n      <th>50880</th>\n      <td>C1</td>\n      <td>442</td>\n      <td>Rented</td>\n      <td>Individual</td>\n      <td>63</td>\n      <td>63</td>\n      <td>No</td>\n      <td>X2</td>\n      <td>14+</td>\n      <td>1.0</td>\n      <td>12</td>\n      <td>11374.0</td>\n      <td>0</td>\n    </tr>\n    <tr>\n      <th>50881</th>\n      <td>C1</td>\n      <td>4</td>\n      <td>Owned</td>\n      <td>Joint</td>\n      <td>71</td>\n      <td>49</td>\n      <td>No</td>\n      <td>X2</td>\n      <td>2</td>\n      <td>2.0</td>\n      <td>16</td>\n      <td>28179.2</td>\n      <td>1</td>\n    </tr>\n    <tr>\n      <th>50882</th>\n      <td>C3</td>\n      <td>3866</td>\n      <td>Rented</td>\n      <td>Individual</td>\n      <td>24</td>\n      <td>24</td>\n      <td>No</td>\n      <td>X3</td>\n      <td>2</td>\n      <td>3.0</td>\n      <td>18</td>\n      <td>11424.0</td>\n      <td>0</td>\n    </tr>\n  </tbody>\n</table>\n<p>50882 rows × 13 columns</p>\n</div>"
     },
     "metadata": {},
     "execution_count": 180
    }
   ],
   "source": [
    "data_2=pd.read_csv('train_Df64byy.csv',index_col=0)\n",
    "data_2"
   ]
  },
  {
   "cell_type": "code",
   "execution_count": 181,
   "metadata": {},
   "outputs": [
    {
     "output_type": "execute_result",
     "data": {
      "text/plain": [
       "      City_Code  Region_Code Accomodation_Type Reco_Insurance_Type  Upper_Age  \\\n",
       "ID                                                                              \n",
       "1            C3         3213            Rented          Individual         36   \n",
       "4           C24         4378             Owned               Joint         52   \n",
       "5            C8         2190            Rented          Individual         44   \n",
       "6            C9         1785            Rented          Individual         52   \n",
       "8            C1         3175             Owned               Joint         75   \n",
       "...         ...          ...               ...                 ...        ...   \n",
       "50876        C6          231            Rented          Individual         36   \n",
       "50879        C5         4188            Rented          Individual         27   \n",
       "50880        C1          442            Rented          Individual         63   \n",
       "50881        C1            4             Owned               Joint         71   \n",
       "50882        C3         3866            Rented          Individual         24   \n",
       "\n",
       "       Lower_Age Is_Spouse Health Indicator Holding_Policy_Duration  \\\n",
       "ID                                                                    \n",
       "1             36        No               X1                     14+   \n",
       "4             48        No               X1                     14+   \n",
       "5             44        No               X2                       3   \n",
       "6             52        No               X2                       5   \n",
       "8             73       Yes               X4                       9   \n",
       "...          ...       ...              ...                     ...   \n",
       "50876         36        No               X3                       2   \n",
       "50879         27        No               X3                       7   \n",
       "50880         63        No               X2                     14+   \n",
       "50881         49        No               X2                       2   \n",
       "50882         24        No               X3                       2   \n",
       "\n",
       "       Holding_Policy_Type  Reco_Policy_Cat  Reco_Policy_Premium  Response  \n",
       "ID                                                                          \n",
       "1                      3.0               22              11628.0         0  \n",
       "4                      3.0               19              17780.0         0  \n",
       "5                      1.0               16              10404.0         0  \n",
       "6                      1.0               22              15264.0         1  \n",
       "8                      4.0               17              29344.0         1  \n",
       "...                    ...              ...                  ...       ...  \n",
       "50876                  1.0               20              13574.0         1  \n",
       "50879                  3.0                4               5408.0         0  \n",
       "50880                  1.0               12              11374.0         0  \n",
       "50881                  2.0               16              28179.2         1  \n",
       "50882                  3.0               18              11424.0         0  \n",
       "\n",
       "[23548 rows x 13 columns]"
      ],
      "text/html": "<div>\n<style scoped>\n    .dataframe tbody tr th:only-of-type {\n        vertical-align: middle;\n    }\n\n    .dataframe tbody tr th {\n        vertical-align: top;\n    }\n\n    .dataframe thead th {\n        text-align: right;\n    }\n</style>\n<table border=\"1\" class=\"dataframe\">\n  <thead>\n    <tr style=\"text-align: right;\">\n      <th></th>\n      <th>City_Code</th>\n      <th>Region_Code</th>\n      <th>Accomodation_Type</th>\n      <th>Reco_Insurance_Type</th>\n      <th>Upper_Age</th>\n      <th>Lower_Age</th>\n      <th>Is_Spouse</th>\n      <th>Health Indicator</th>\n      <th>Holding_Policy_Duration</th>\n      <th>Holding_Policy_Type</th>\n      <th>Reco_Policy_Cat</th>\n      <th>Reco_Policy_Premium</th>\n      <th>Response</th>\n    </tr>\n    <tr>\n      <th>ID</th>\n      <th></th>\n      <th></th>\n      <th></th>\n      <th></th>\n      <th></th>\n      <th></th>\n      <th></th>\n      <th></th>\n      <th></th>\n      <th></th>\n      <th></th>\n      <th></th>\n      <th></th>\n    </tr>\n  </thead>\n  <tbody>\n    <tr>\n      <th>1</th>\n      <td>C3</td>\n      <td>3213</td>\n      <td>Rented</td>\n      <td>Individual</td>\n      <td>36</td>\n      <td>36</td>\n      <td>No</td>\n      <td>X1</td>\n      <td>14+</td>\n      <td>3.0</td>\n      <td>22</td>\n      <td>11628.0</td>\n      <td>0</td>\n    </tr>\n    <tr>\n      <th>4</th>\n      <td>C24</td>\n      <td>4378</td>\n      <td>Owned</td>\n      <td>Joint</td>\n      <td>52</td>\n      <td>48</td>\n      <td>No</td>\n      <td>X1</td>\n      <td>14+</td>\n      <td>3.0</td>\n      <td>19</td>\n      <td>17780.0</td>\n      <td>0</td>\n    </tr>\n    <tr>\n      <th>5</th>\n      <td>C8</td>\n      <td>2190</td>\n      <td>Rented</td>\n      <td>Individual</td>\n      <td>44</td>\n      <td>44</td>\n      <td>No</td>\n      <td>X2</td>\n      <td>3</td>\n      <td>1.0</td>\n      <td>16</td>\n      <td>10404.0</td>\n      <td>0</td>\n    </tr>\n    <tr>\n      <th>6</th>\n      <td>C9</td>\n      <td>1785</td>\n      <td>Rented</td>\n      <td>Individual</td>\n      <td>52</td>\n      <td>52</td>\n      <td>No</td>\n      <td>X2</td>\n      <td>5</td>\n      <td>1.0</td>\n      <td>22</td>\n      <td>15264.0</td>\n      <td>1</td>\n    </tr>\n    <tr>\n      <th>8</th>\n      <td>C1</td>\n      <td>3175</td>\n      <td>Owned</td>\n      <td>Joint</td>\n      <td>75</td>\n      <td>73</td>\n      <td>Yes</td>\n      <td>X4</td>\n      <td>9</td>\n      <td>4.0</td>\n      <td>17</td>\n      <td>29344.0</td>\n      <td>1</td>\n    </tr>\n    <tr>\n      <th>...</th>\n      <td>...</td>\n      <td>...</td>\n      <td>...</td>\n      <td>...</td>\n      <td>...</td>\n      <td>...</td>\n      <td>...</td>\n      <td>...</td>\n      <td>...</td>\n      <td>...</td>\n      <td>...</td>\n      <td>...</td>\n      <td>...</td>\n    </tr>\n    <tr>\n      <th>50876</th>\n      <td>C6</td>\n      <td>231</td>\n      <td>Rented</td>\n      <td>Individual</td>\n      <td>36</td>\n      <td>36</td>\n      <td>No</td>\n      <td>X3</td>\n      <td>2</td>\n      <td>1.0</td>\n      <td>20</td>\n      <td>13574.0</td>\n      <td>1</td>\n    </tr>\n    <tr>\n      <th>50879</th>\n      <td>C5</td>\n      <td>4188</td>\n      <td>Rented</td>\n      <td>Individual</td>\n      <td>27</td>\n      <td>27</td>\n      <td>No</td>\n      <td>X3</td>\n      <td>7</td>\n      <td>3.0</td>\n      <td>4</td>\n      <td>5408.0</td>\n      <td>0</td>\n    </tr>\n    <tr>\n      <th>50880</th>\n      <td>C1</td>\n      <td>442</td>\n      <td>Rented</td>\n      <td>Individual</td>\n      <td>63</td>\n      <td>63</td>\n      <td>No</td>\n      <td>X2</td>\n      <td>14+</td>\n      <td>1.0</td>\n      <td>12</td>\n      <td>11374.0</td>\n      <td>0</td>\n    </tr>\n    <tr>\n      <th>50881</th>\n      <td>C1</td>\n      <td>4</td>\n      <td>Owned</td>\n      <td>Joint</td>\n      <td>71</td>\n      <td>49</td>\n      <td>No</td>\n      <td>X2</td>\n      <td>2</td>\n      <td>2.0</td>\n      <td>16</td>\n      <td>28179.2</td>\n      <td>1</td>\n    </tr>\n    <tr>\n      <th>50882</th>\n      <td>C3</td>\n      <td>3866</td>\n      <td>Rented</td>\n      <td>Individual</td>\n      <td>24</td>\n      <td>24</td>\n      <td>No</td>\n      <td>X3</td>\n      <td>2</td>\n      <td>3.0</td>\n      <td>18</td>\n      <td>11424.0</td>\n      <td>0</td>\n    </tr>\n  </tbody>\n</table>\n<p>23548 rows × 13 columns</p>\n</div>"
     },
     "metadata": {},
     "execution_count": 181
    }
   ],
   "source": [
    "data_htp=data_2.copy()\n",
    "data_htp.dropna(inplace=True)# dropping rows with na value \n",
    "data_htp"
   ]
  },
  {
   "cell_type": "code",
   "execution_count": 182,
   "metadata": {},
   "outputs": [],
   "source": [
    "def binary_encoding(dataframe,features):# fucntion for binary ecoding for 2 class features\n",
    "    for i in features:\n",
    "        if len(dataframe[i].value_counts().index)>2:\n",
    "            print('the feature has more than 2 classes')\n",
    "            return None\n",
    "        classes=dataframe[i].value_counts().index\n",
    "        dataframe[i]=dataframe[i].map({classes[0]:0,classes[1]:1})\n",
    "    return None"
   ]
  },
  {
   "cell_type": "code",
   "execution_count": 183,
   "metadata": {},
   "outputs": [],
   "source": [
    "binary_encoding(data_htp,['Accomodation_Type','Reco_Insurance_Type','Is_Spouse']) # binary encoding the features ['Accomodation_Type','Reco_Insurance_Type','Is_Spouse']"
   ]
  },
  {
   "cell_type": "code",
   "execution_count": 184,
   "metadata": {},
   "outputs": [],
   "source": [
    "def frequency_encoding(dataframe,features):# function for frequency encoding a group of categorical variables\n",
    "    num_ex=len(dataframe)\n",
    "    for i in features:\n",
    "        freq=dataframe[i].value_counts()/num_ex\n",
    "        dataframe[i]=dataframe[i].map(freq)\n",
    "    return None"
   ]
  },
  {
   "cell_type": "code",
   "execution_count": 185,
   "metadata": {},
   "outputs": [],
   "source": [
    "frequency_encoding(data_htp,['City_Code']) # feaquency encooing to the feature City_Code"
   ]
  },
  {
   "cell_type": "code",
   "execution_count": 186,
   "metadata": {},
   "outputs": [
    {
     "output_type": "execute_result",
     "data": {
      "text/plain": [
       "(23548, 10)"
      ]
     },
     "metadata": {},
     "execution_count": 186
    }
   ],
   "source": [
    "x_data=data_htp.drop(columns=['Health Indicator','Holding_Policy_Duration','Holding_Policy_Type'])\n",
    "x_data=np.array(x_data)\n",
    "x_data.shape"
   ]
  },
  {
   "cell_type": "code",
   "execution_count": 187,
   "metadata": {},
   "outputs": [
    {
     "output_type": "execute_result",
     "data": {
      "text/plain": [
       "(23548, 9)"
      ]
     },
     "metadata": {},
     "execution_count": 187
    }
   ],
   "source": [
    "# training a model for imputing missing values in the feature Health Indicator\n",
    "y_data=pd.get_dummies(data_htp['Health Indicator'])# preparing output data\n",
    "y_data=np.array(y_data)\n",
    "y_data.shape"
   ]
  },
  {
   "cell_type": "code",
   "execution_count": 188,
   "metadata": {},
   "outputs": [
    {
     "output_type": "stream",
     "name": "stdout",
     "text": [
      "Epoch 1/10\n",
      "663/663 - 2s - loss: 90.3023 - acc: 0.2163 - val_loss: 15.3751 - val_acc: 0.0662\n",
      "Epoch 2/10\n",
      "663/663 - 1s - loss: 16.8143 - acc: 0.2276 - val_loss: 15.4797 - val_acc: 0.1724\n",
      "Epoch 3/10\n",
      "663/663 - 1s - loss: 13.0991 - acc: 0.2278 - val_loss: 13.6776 - val_acc: 0.0501\n",
      "Epoch 4/10\n",
      "663/663 - 1s - loss: 10.8546 - acc: 0.2246 - val_loss: 8.8062 - val_acc: 0.3079\n",
      "Epoch 5/10\n",
      "663/663 - 1s - loss: 10.9993 - acc: 0.2305 - val_loss: 3.6539 - val_acc: 0.1873\n",
      "Epoch 6/10\n",
      "663/663 - 1s - loss: 8.3082 - acc: 0.2287 - val_loss: 7.2505 - val_acc: 0.0599\n",
      "Epoch 7/10\n",
      "663/663 - 1s - loss: 7.4553 - acc: 0.2313 - val_loss: 6.4589 - val_acc: 0.2960\n",
      "Epoch 8/10\n",
      "663/663 - 1s - loss: 6.8560 - acc: 0.2361 - val_loss: 8.2537 - val_acc: 0.2773\n",
      "Epoch 9/10\n",
      "663/663 - 1s - loss: 5.3115 - acc: 0.2369 - val_loss: 13.9666 - val_acc: 0.2773\n",
      "Epoch 10/10\n",
      "663/663 - 1s - loss: 5.4887 - acc: 0.2366 - val_loss: 4.9575 - val_acc: 0.0539\n"
     ]
    },
    {
     "output_type": "execute_result",
     "data": {
      "text/plain": [
       "<tensorflow.python.keras.callbacks.History at 0x2206604f100>"
      ]
     },
     "metadata": {},
     "execution_count": 188
    }
   ],
   "source": [
    "hi_nnmodel=tf.keras.Sequential([tf.keras.layers.Dense(15,activation='relu',input_shape=(10,)),tf.keras.layers.Dense(15,activation='relu'),tf.keras.layers.Dense(15,activation='relu'),tf.keras.layers.Dense(15,activation='relu'),tf.keras.layers.Dense(9,activation='softmax')])\n",
    "hi_nnmodel.compile(optimizer='adam',loss=tf.keras.losses.CategoricalCrossentropy(from_logits=True),metrics='acc')\n",
    "hi_nnmodel.fit(x_data,y_data,epochs=,verbose=2,validation_split=0.1)"
   ]
  },
  {
   "source": [
    "the low accuracy of the prdeiction shows that the missing data in this variable is not missinf at random so the model cannot be predicted using other features"
   ],
   "cell_type": "markdown",
   "metadata": {}
  }
 ]
}